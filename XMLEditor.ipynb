{
 "cells": [
  {
   "cell_type": "code",
   "execution_count": null,
   "metadata": {},
   "outputs": [],
   "source": [
    "import os\n",
    "import xml.etree.ElementTree as ET"
   ]
  },
  {
   "cell_type": "code",
   "execution_count": null,
   "metadata": {},
   "outputs": [],
   "source": [
    "def editXMLFiles(sourcePath = \"\", sourceImgPath = \"\"):\n",
    "    for i in os.listdir(sourcePath):\n",
    "        source = sourcePath + \"\\\\\" + i\n",
    "        mytree = ET.parse(source)\n",
    "        myroot = mytree.getroot()\n",
    "\n",
    "        fname = i[:-4]\n",
    "        ffulname = fname + \".jpg\"\n",
    "\n",
    "        pathText = sourceImgPath + \"\\\\\" + ffulname\n",
    "\n",
    "        for filenames in myroot.iter('filename'):\n",
    "            filenames.text = ffulname\n",
    "\n",
    "        for paths in myroot.iter(\"path\"):\n",
    "            paths.text = pathText\n",
    "\n",
    "        for databases in myroot.iter(\"database\"):\n",
    "            databases.text = \"Unknown\"\n",
    "\n",
    "        for names in myroot.iter(\"name\"):\n",
    "            names.text = \"defective\"\n",
    "\n",
    "        for elem in myroot.iter():\n",
    "            for child in list(elem):\n",
    "                if child.tag == \"occluded\":\n",
    "                    elem.remove(child)\n",
    "\n",
    "        mytree.write(source)"
   ]
  },
  {
   "cell_type": "code",
   "execution_count": null,
   "metadata": {},
   "outputs": [],
   "source": [
    "editXMLFiles(r\"\", r\"\")"
   ]
  },
  {
   "cell_type": "code",
   "execution_count": null,
   "metadata": {},
   "outputs": [],
   "source": []
  }
 ],
 "metadata": {
  "kernelspec": {
   "display_name": "base",
   "language": "python",
   "name": "python3"
  },
  "language_info": {
   "codemirror_mode": {
    "name": "ipython",
    "version": 3
   },
   "file_extension": ".py",
   "mimetype": "text/x-python",
   "name": "python",
   "nbconvert_exporter": "python",
   "pygments_lexer": "ipython3",
   "version": "3.9.13"
  },
  "orig_nbformat": 4
 },
 "nbformat": 4,
 "nbformat_minor": 2
}
