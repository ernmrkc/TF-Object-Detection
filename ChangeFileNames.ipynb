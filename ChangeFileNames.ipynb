{
 "cells": [
  {
   "cell_type": "code",
   "execution_count": null,
   "metadata": {},
   "outputs": [],
   "source": [
    "import os\n",
    "import re"
   ]
  },
  {
   "cell_type": "code",
   "execution_count": null,
   "metadata": {},
   "outputs": [],
   "source": [
    "def changeFileNames(folder = \"\"):\n",
    "    count = 1\n",
    "    for i in os.listdir(folder):\n",
    "        source = folder + \"\\\\\" + i \n",
    "        destination = folder + \"\\\\\" + \"Images_\" + str(count) + \".jpeg\"\n",
    "        os.rename(source, destination)\n",
    "        count += 1\n",
    "    print(\"All files renamed\")"
   ]
  },
  {
   "cell_type": "code",
   "execution_count": null,
   "metadata": {},
   "outputs": [],
   "source": [
    "def changeFileNamestoNumber(folder = \"\"):\n",
    "    for i in os.listdir(folder):\n",
    "        source = folder + \"\\\\\" + i \n",
    "        num = re.findall(r'\\d+', i)\n",
    "        destination = folder + \"\\\\\" + str(num[0]) + \".xml\"\n",
    "        os.rename(source, destination)\n",
    "    print(\"All files renamed\")"
   ]
  },
  {
   "cell_type": "code",
   "execution_count": null,
   "metadata": {},
   "outputs": [],
   "source": [
    "def convertExtension_JPEG2JPG(folder = \"\"):\n",
    "    for i in os.listdir(folder):\n",
    "        source = folder + \"\\\\\" + i\n",
    "        destination = source[:-4] + \"jpg\"\n",
    "        os.rename(source, destination)\n",
    "    print(\"All files renamed\")"
   ]
  },
  {
   "cell_type": "code",
   "execution_count": null,
   "metadata": {},
   "outputs": [],
   "source": [
    "# changeFileNames(r\"\")"
   ]
  },
  {
   "cell_type": "code",
   "execution_count": null,
   "metadata": {},
   "outputs": [],
   "source": [
    "# changeFileNamestoNumber(r\"\")"
   ]
  },
  {
   "cell_type": "code",
   "execution_count": null,
   "metadata": {},
   "outputs": [],
   "source": [
    "# convertExtension_JPEG2JPG(r\"\")"
   ]
  }
 ],
 "metadata": {
  "kernelspec": {
   "display_name": "tfod_gpu",
   "language": "python",
   "name": "tfod_gpu"
  },
  "language_info": {
   "codemirror_mode": {
    "name": "ipython",
    "version": 3
   },
   "file_extension": ".py",
   "mimetype": "text/x-python",
   "name": "python",
   "nbconvert_exporter": "python",
   "pygments_lexer": "ipython3",
   "version": "3.9.13"
  },
  "orig_nbformat": 4
 },
 "nbformat": 4,
 "nbformat_minor": 2
}
