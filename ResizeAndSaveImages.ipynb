{
 "cells": [
  {
   "cell_type": "code",
   "execution_count": 1,
   "id": "77d6e63b",
   "metadata": {},
   "outputs": [],
   "source": [
    "import os\n",
    "import cv2"
   ]
  },
  {
   "cell_type": "code",
   "execution_count": 2,
   "id": "048f9500",
   "metadata": {},
   "outputs": [],
   "source": [
    "sourcefolder = r\"\"\n",
    "targetfolder = r\"\""
   ]
  },
  {
   "cell_type": "code",
   "execution_count": 15,
   "id": "a1cb1cf2",
   "metadata": {},
   "outputs": [],
   "source": [
    "def resizeAndSaveImages(sourcefolder = \"\", targetfolder = \"\",  targetExtension = \"\", dim = (int, int)):\n",
    "    count=1\n",
    "    for i in os.listdir(sourcefolder):\n",
    "        # get name/path of image \n",
    "        source = sourcefolder + \"\\\\\" + i\n",
    "        # read image\n",
    "        img = cv2.imread(source, cv2.IMREAD_COLOR)\n",
    "        # resize image\n",
    "        resized_img = cv2.resize(img, dim, interpolation = cv2.INTER_LINEAR)\n",
    "        target_path = targetfolder + \"\\\\\" + \"image_\" + str(count) + targetExtension\n",
    "        print(target_path)\n",
    "        count += 1\n",
    "        cv2.imwrite(target_path, resized_img)\n",
    "    print(\"All files are completed.\")\n",
    "        "
   ]
  },
  {
   "cell_type": "code",
   "execution_count": 5,
   "id": "826848c5",
   "metadata": {},
   "outputs": [],
   "source": [
    "def resizeAndSaveImagesMultipleFolders(sourcefolder = \"\", targetfolder = \"\",  targetExtension = \"\", dim = (int, int)):\n",
    "    for i in os.listdir(sourcefolder):\n",
    "        count = 1\n",
    "        for j in os.listdir(sourcefolder + \"\\\\\" + i):\n",
    "            # get name/path of image \n",
    "            source = sourcefolder + \"\\\\\" + i + \"\\\\\" + j\n",
    "            # read image\n",
    "            img = cv2.imread(source, cv2.IMREAD_COLOR)\n",
    "            # resize image\n",
    "            resized_img = cv2.resize(img, dim, interpolation = cv2.INTER_LINEAR)\n",
    "            # define target path to save image\n",
    "            target_path = targetfolder + \"\\\\\" + i + \"\\\\\" + i + \"_image_\" + str(count) + targetExtension\n",
    "            count += 1\n",
    "            cv2.imwrite(target_path, resized_img)\n",
    "        # print folder info\n",
    "        print(sourcefolder + \"\\\\\" + i + \" folder is completed.\")\n",
    "    # print process info\n",
    "    print(\"All folders are completed.\")"
   ]
  },
  {
   "cell_type": "code",
   "execution_count": 8,
   "id": "72c631de",
   "metadata": {},
   "outputs": [],
   "source": [
    "# resizeAndSaveImagesMultipleFolders(sourcefolder=sourcefolder, targetfolder=targetfolder, targetExtension=\".jpg\", dim=(640, 640))"
   ]
  },
  {
   "cell_type": "code",
   "execution_count": 17,
   "id": "068f8c31",
   "metadata": {},
   "outputs": [],
   "source": [
    "# resizeAndSaveImages(sourcefolder=sourcefolder, targetfolder=targetfolder, targetExtension=\".jpg\", dim=(640, 640))"
   ]
  },
  {
   "cell_type": "code",
   "execution_count": null,
   "id": "59e485b3",
   "metadata": {},
   "outputs": [],
   "source": []
  }
 ],
 "metadata": {
  "kernelspec": {
   "display_name": "tfod_gpu",
   "language": "python",
   "name": "tfod_gpu"
  },
  "language_info": {
   "codemirror_mode": {
    "name": "ipython",
    "version": 3
   },
   "file_extension": ".py",
   "mimetype": "text/x-python",
   "name": "python",
   "nbconvert_exporter": "python",
   "pygments_lexer": "ipython3",
   "version": "3.9.13"
  }
 },
 "nbformat": 4,
 "nbformat_minor": 5
}
