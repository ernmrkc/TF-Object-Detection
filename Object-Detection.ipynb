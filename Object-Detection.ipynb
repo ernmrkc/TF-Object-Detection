{
 "cells": [
  {
   "cell_type": "markdown",
   "metadata": {},
   "source": [
    "# Installation Infortmation"
   ]
  },
  {
   "cell_type": "code",
   "execution_count": 18,
   "metadata": {},
   "outputs": [],
   "source": [
    "# type to install object-detection\n",
    "# cd models/research/\n",
    "# protoc object_detection/protos/*.proto --python_out=.\n",
    "# cp object_detection/packages/tf2/setup.py .\n",
    "# python -m pip install .\n",
    "# Run \"Download Tensorflow files and scripts\" below\n",
    "\n",
    "# !pip install opencv-python\n",
    "# !pip install wget\n",
    "# !pip install tensorflow==2.10.0\n",
    "# !pip install tensorflow-gpu==2.10.0\n",
    "# !pip install matplotlib\n",
    "# !pip install tensorflow-addons\n",
    "# !pip uninstall pycocotools -y\n",
    "# !pip install pycocotools\n",
    "# !pip install PyYAML\n",
    "# !pip install gin\n",
    "# !pip install gin-config"
   ]
  },
  {
   "cell_type": "code",
   "execution_count": 19,
   "metadata": {},
   "outputs": [],
   "source": [
    "import os\n",
    "import cv2 \n",
    "import wget\n",
    "import object_detection\n",
    "\n",
    "import tensorflow as tf\n",
    "import numpy as np\n",
    "\n",
    "from object_detection.utils import label_map_util\n",
    "from object_detection.utils import visualization_utils as viz_utils\n",
    "from object_detection.builders import model_builder\n",
    "from object_detection.utils import config_util\n",
    "from object_detection.protos import pipeline_pb2\n",
    "from google.protobuf import text_format\n",
    "from tensorflow.python.client import device_lib\n",
    "\n",
    "from matplotlib import pyplot as plt\n",
    "%matplotlib inline\n",
    "\n",
    "# os.environ[\"CUDA_VISIBLE_DEVICES\"] = \"-1\" "
   ]
  },
  {
   "cell_type": "code",
   "execution_count": 20,
   "metadata": {},
   "outputs": [],
   "source": [
    "# print(device_lib.list_local_devices())"
   ]
  },
  {
   "cell_type": "markdown",
   "metadata": {},
   "source": [
    "# Setup Paths"
   ]
  },
  {
   "cell_type": "code",
   "execution_count": 21,
   "metadata": {},
   "outputs": [],
   "source": [
    "#    Features and Comparisons of Tensorflow Object Detection Algorithms\n",
    "#    Referenced from:  https://github.com/tensorflow/models/blob/master/research/object_detection/g3doc/tf2_detection_zoo.md\n",
    "#    -----------------------------------------------------------------------------------------------------------------------\n",
    "#\n",
    "#    Model name\t                                      |   Speed (ms)\t  |   COCO mAP\t   |  Outputs\n",
    "#    -------------------------------------------------|-------------------|----------------|-----------------\n",
    "#    CenterNet HourGlass104 512x512\t                  |      70\t          |   41.9\t       |  Boxes\n",
    "#    -------------------------------------------------|-------------------|----------------|-----------------\n",
    "#    CenterNet HourGlass104 Keypoints 512x512\t      |      76\t          |   40.0/61.4\t   |  Boxes/Keypoints\n",
    "#    -------------------------------------------------|-------------------|----------------|-----------------\n",
    "#    CenterNet HourGlass104 1024x1024\t              |      197\t      |   44.5\t       |  Boxes             -\n",
    "#    -------------------------------------------------|-------------------|----------------|-----------------\n",
    "#    CenterNet HourGlass104 Keypoints 1024x1024\t      |      211\t      |   42.8/64.5\t   |  Boxes/Keypoints\n",
    "#    -------------------------------------------------|-------------------|----------------|-----------------\n",
    "#    CenterNet Resnet50 V1 FPN 512x512\t              |      27\t          |   31.2\t       |  Boxes\n",
    "#    -------------------------------------------------|-------------------|----------------|-----------------\n",
    "#    CenterNet Resnet50 V1 FPN Keypoints 512x512\t  |      30\t          |   29.3/50.7\t   |  Boxes/Keypoints\n",
    "#    -------------------------------------------------|-------------------|----------------|-----------------\n",
    "#    CenterNet Resnet101 V1 FPN 512x512\t              |      34\t          |   34.2\t       |  Boxes\n",
    "#    -------------------------------------------------|-------------------|----------------|-----------------\n",
    "#    CenterNet Resnet50 V2 512x512\t                  |      27\t          |   29.5\t       |  Boxes\n",
    "#    -------------------------------------------------|-------------------|----------------|-----------------\n",
    "#    CenterNet Resnet50 V2 Keypoints 512x512\t      |      30\t          |   27.6/48.2\t   |  Boxes/Keypoints\n",
    "#    -------------------------------------------------|-------------------|----------------|-----------------\n",
    "#    CenterNet MobileNetV2 FPN 512x512\t              |      6\t          |   23.4\t       |  Boxes\n",
    "#    -------------------------------------------------|-------------------|----------------|-----------------\n",
    "#    CenterNet MobileNetV2 FPN Keypoints 512x512\t  |      6\t          |   41.7\t       |  Keypoints\n",
    "#    -------------------------------------------------|------------------ |----------------|-----------------\n",
    "#    EfficientDet D0 512x512\t                      |      39\t          |   33.6\t       |  Boxes\n",
    "#    -------------------------------------------------|-------------------|----------------|-----------------\n",
    "#    EfficientDet D1 640x640\t                      |      54\t          |   38.4\t       |  Boxes             -\n",
    "#    -------------------------------------------------|-------------------|----------------|-----------------\n",
    "#    EfficientDet D2 768x768\t                      |      67\t          |   41.8\t       |  Boxes\n",
    "#    -------------------------------------------------|-------------------|----------------|-----------------\n",
    "#    EfficientDet D3 896x896\t                      |      95\t          |   45.4\t       |  Boxes\n",
    "#    -------------------------------------------------|-------------------|----------------|-----------------\n",
    "#    EfficientDet D4 1024x1024\t                      |      133\t      |   48.5\t       |  Boxes\n",
    "#    -------------------------------------------------|-------------------|----------------|-----------------\n",
    "#    EfficientDet D5 1280x1280\t                      |      222\t      |   49.7\t       |  Boxes\n",
    "#    -------------------------------------------------|-------------------|----------------|-----------------\n",
    "#    EfficientDet D6 1280x1280\t                      |      268\t      |   50.5\t       |  Boxes\n",
    "#    -------------------------------------------------|-------------------|----------------|-----------------\n",
    "#    EfficientDet D7 1536x1536\t                      |      325\t      |   51.2\t       |  Boxes\n",
    "#    -------------------------------------------------|-------------------|----------------|-----------------\n",
    "#    SSD MobileNet v2 320x320\t                      |      19\t          |   20.2\t       |  Boxes             +\n",
    "#    -------------------------------------------------|-------------------|----------------|-----------------\n",
    "#    SSD MobileNet V1 FPN 640x640\t                  |      48\t          |   29.1\t       |  Boxes             ++\n",
    "#    -------------------------------------------------|-------------------|----------------|-----------------\n",
    "#    SSD MobileNet V2 FPNLite 320x320\t              |      22\t          |   22.2\t       |  Boxes\n",
    "#    -------------------------------------------------|-------------------|----------------|-----------------\n",
    "#    SSD MobileNet V2 FPNLite 640x640\t              |      39\t          |   28.2\t       |  Boxes\n",
    "#    -------------------------------------------------|-------------------|----------------|-----------------\n",
    "#    SSD ResNet50 V1 FPN 640x640 (RetinaNet50)\t      |      46\t          |   34.3\t       |  Boxes\n",
    "#    -------------------------------------------------|-------------------|----------------|-----------------\n",
    "#    SSD ResNet50 V1 FPN 1024x1024 (RetinaNet50)\t  |      87\t          |   38.3\t       |  Boxes\n",
    "#    -------------------------------------------------|-------------------|----------------|-----------------\n",
    "#    SSD ResNet101 V1 FPN 640x640 (RetinaNet101)      |      57\t          |   35.6\t       |  Boxes             -\n",
    "#    -------------------------------------------------|-------------------|----------------|-----------------\n",
    "#    SSD ResNet101 V1 FPN 1024x1024 (RetinaNet101)\t  |      104\t      |   39.5\t       |  Boxes\n",
    "#    -------------------------------------------------|-------------------|----------------|-----------------\n",
    "#    SSD ResNet152 V1 FPN 640x640 (RetinaNet152)\t  |      80\t          |   35.4\t       |  Boxes\n",
    "#    -------------------------------------------------|-------------------|----------------|-----------------\n",
    "#    SSD ResNet152 V1 FPN 1024x1024 (RetinaNet152)\t  |      111\t      |   39.6\t       |  Boxes\n",
    "#    -------------------------------------------------|-------------------|----------------|-----------------\n",
    "#    Faster R-CNN ResNet50 V1 640x640\t              |      53\t          |   29.3\t       |  Boxes\n",
    "#    -------------------------------------------------|-------------------|----------------|-----------------\n",
    "#    Faster R-CNN ResNet50 V1 1024x1024\t              |      65\t          |   31.0\t       |  Boxes\n",
    "#    -------------------------------------------------|-------------------|----------------|-----------------\n",
    "#    Faster R-CNN ResNet50 V1 800x1333\t              |      65\t          |   31.6\t       |  Boxes\n",
    "#    -------------------------------------------------|-------------------|----------------|-----------------\n",
    "#    Faster R-CNN ResNet101 V1 640x640\t              |      55\t          |   31.8\t       |  Boxes\n",
    "#    -------------------------------------------------|-------------------|----------------|-----------------\n",
    "#    Faster R-CNN ResNet101 V1 1024x1024\t          |      72\t          |   37.1\t       |  Boxes\n",
    "#    -------------------------------------------------|-------------------|----------------|-----------------\n",
    "#    Faster R-CNN ResNet101 V1 800x1333\t              |      77\t          |   36.6\t       |  Boxes\n",
    "#    -------------------------------------------------|-------------------|----------------|-----------------\n",
    "#    Faster R-CNN ResNet152 V1 640x640\t              |      64\t          |   32.4\t       |  Boxes             -\n",
    "#    -------------------------------------------------|-------------------|----------------|-----------------\n",
    "#    Faster R-CNN ResNet152 V1 1024x1024\t          |      85\t          |   37.6\t       |  Boxes\n",
    "#    -------------------------------------------------|-------------------|----------------|-----------------\n",
    "#    Faster R-CNN ResNet152 V1 800x1333\t              |      101\t      |   37.4\t       |  Boxes\n",
    "#    -------------------------------------------------|-------------------|----------------|-----------------\n",
    "#    Faster R-CNN Inception ResNet V2 640x640\t      |      206\t      |   37.7         |  Boxes             -\n",
    "#    -------------------------------------------------|-------------------|----------------|-----------------\n",
    "#    Faster R-CNN Inception ResNet V2 1024x1024\t      |      236\t      |   38.7\t       |  Boxes\n",
    "#    -------------------------------------------------|-------------------|----------------|-----------------\n",
    "#    Mask R-CNN Inception ResNet V2 1024x1024\t      |      301\t      |   39.0/34.6\t   |  Boxes/Masks\n",
    "#    -------------------------------------------------|-------------------|----------------|-----------------\n",
    "#    ExtremeNet (deprecated)\t                      |      --\t          |   --\t       |  Boxes\n",
    "#    -------------------------------------------------|-------------------|----------------|-----------------\n",
    "#    ExtremeNet\t                                      |      --\t          |   --\t       |  Boxes"
   ]
  },
  {
   "cell_type": "code",
   "execution_count": 22,
   "metadata": {},
   "outputs": [],
   "source": [
    "URL_PreTrainedModel_CenterNet_HourGlass104_512x512 =                    'http://download.tensorflow.org/models/object_detection/tf2/20200713/centernet_hg104_512x512_coco17_tpu-8.tar.gz'\n",
    "URL_PreTrainedModel_Centernet_HourGlass104_Keypoints_512x512 =          'http://download.tensorflow.org/models/object_detection/tf2/20200711/centernet_hg104_512x512_kpts_coco17_tpu-32.tar.gz'\n",
    "URL_PreTrainedModel_CenterNet_HourGlass104_1024x1024 =                  'http://download.tensorflow.org/models/object_detection/tf2/20200713/centernet_hg104_1024x1024_coco17_tpu-32.tar.gz'\n",
    "URL_PreTrainedModel_CenterNet_HourGlass104_Keypoints_1024x1024 =        'http://download.tensorflow.org/models/object_detection/tf2/20200711/centernet_hg104_1024x1024_kpts_coco17_tpu-32.tar.gz'\n",
    "URL_PreTrainedModel_CenterNet_Resnet50_V1_FPN_512x512 =                 'http://download.tensorflow.org/models/object_detection/tf2/20200711/centernet_resnet50_v1_fpn_512x512_coco17_tpu-8.tar.gz'\n",
    "URL_PreTrainedModel_CenterNet_Resnet50_V1_FPN_Keypoints_512x512 =       'http://download.tensorflow.org/models/object_detection/tf2/20200711/centernet_resnet50_v1_fpn_512x512_kpts_coco17_tpu-8.tar.gz'\n",
    "URL_PreTrainedModel_CenterNet_Resnet101_V1_FPN_512x512 =                'http://download.tensorflow.org/models/object_detection/tf2/20200711/centernet_resnet101_v1_fpn_512x512_coco17_tpu-8.tar.gz'\n",
    "URL_PreTrainedModel_CenterNet_Resnet50_V2_512x512 =                     'http://download.tensorflow.org/models/object_detection/tf2/20200711/centernet_resnet50_v2_512x512_coco17_tpu-8.tar.gz'\n",
    "URL_PreTrainedModel_CenterNet_Resnet50_V2_Keypoints_512x512 =           'http://download.tensorflow.org/models/object_detection/tf2/20200711/centernet_resnet50_v2_512x512_kpts_coco17_tpu-8.tar.gz'\n",
    "URL_PreTrainedModel_CenterNet_MobileNetV2_FPN_512x512 =                 'http://download.tensorflow.org/models/object_detection/tf2/20210210/centernet_mobilenetv2fpn_512x512_coco17_od.tar.gz'\n",
    "URL_PreTrainedModel_CenterNet_MobileNetV2_FPN_Keypoints_512x512 =       'http://download.tensorflow.org/models/object_detection/tf2/20210210/centernet_mobilenetv2fpn_512x512_coco17_kpts.tar.gz'\n",
    "URL_PreTrainedModel_EfficientDet_D0_512x512 =                           'http://download.tensorflow.org/models/object_detection/tf2/20200711/efficientdet_d0_coco17_tpu-32.tar.gz'\n",
    "URL_PreTrainedModel_EfficientDet_D1_640x640 =                           'http://download.tensorflow.org/models/object_detection/tf2/20200711/efficientdet_d1_coco17_tpu-32.tar.gz'\n",
    "URL_PreTrainedModel_EfficientDet_D2_768x768 =                           'http://download.tensorflow.org/models/object_detection/tf2/20200711/efficientdet_d2_coco17_tpu-32.tar.gz'\n",
    "URL_PreTrainedModel_EfficientDet_D3_896x896 =                           'http://download.tensorflow.org/models/object_detection/tf2/20200711/efficientdet_d3_coco17_tpu-32.tar.gz'\n",
    "URL_PreTrainedModel_EfficientDet_D4_1024x1024 =                         'http://download.tensorflow.org/models/object_detection/tf2/20200711/efficientdet_d4_coco17_tpu-32.tar.gz'\n",
    "URL_PreTrainedModel_EfficientDet_D5_1280x1280 =                         'http://download.tensorflow.org/models/object_detection/tf2/20200711/efficientdet_d5_coco17_tpu-32.tar.gz'\n",
    "URL_PreTrainedModel_EfficientDet_D6_1280x1280 =                         'http://download.tensorflow.org/models/object_detection/tf2/20200711/efficientdet_d6_coco17_tpu-32.tar.gz'\n",
    "URL_PreTrainedModel_EfficientDet_D7_1536x1536 =                         'http://download.tensorflow.org/models/object_detection/tf2/20200711/efficientdet_d7_coco17_tpu-32.tar.gz'\n",
    "URL_PreTrainedModel_SSD_MobileNet_v2_320x320 =                          'http://download.tensorflow.org/models/object_detection/tf2/20200711/ssd_mobilenet_v2_320x320_coco17_tpu-8.tar.gz'\n",
    "URL_PreTrainedModel_SSD_MobileNet_v1_FPN_640x640 =                      'http://download.tensorflow.org/models/object_detection/tf2/20200711/ssd_mobilenet_v1_fpn_640x640_coco17_tpu-8.tar.gz'\n",
    "URL_PreTrainedModel_SSD_MobileNet_v2_FPNLite_320x320 =                  'http://download.tensorflow.org/models/object_detection/tf2/20200711/ssd_mobilenet_v2_fpnlite_320x320_coco17_tpu-8.tar.gz'\n",
    "URL_PreTrainedModel_SSD_MobileNet_v2_FPNLite_640x640 =                  'http://download.tensorflow.org/models/object_detection/tf2/20200711/ssd_mobilenet_v2_fpnlite_640x640_coco17_tpu-8.tar.gz'\n",
    "URL_PreTrainedModel_SSD_ResNet50_v1_FPN_640x640_RetinaNet50 =           'http://download.tensorflow.org/models/object_detection/tf2/20200711/ssd_resnet50_v1_fpn_640x640_coco17_tpu-8.tar.gz'\n",
    "URL_PreTrainedModel_SSD_ResNet50_v1_FPN_1024x1024_RetinaNet50 =         'http://download.tensorflow.org/models/object_detection/tf2/20200711/ssd_resnet50_v1_fpn_1024x1024_coco17_tpu-8.tar.gz'\n",
    "URL_PreTrainedModel_SSD_ResNet101_v1_FPN_640x640_RetinaNet101 =         'http://download.tensorflow.org/models/object_detection/tf2/20200711/ssd_resnet101_v1_fpn_640x640_coco17_tpu-8.tar.gz'\n",
    "URL_PreTrainedModel_SSD_ResNet101_v1_FPN_1024x1024_RetinaNet101 =       'http://download.tensorflow.org/models/object_detection/tf2/20200711/ssd_resnet101_v1_fpn_1024x1024_coco17_tpu-8.tar.gz'\n",
    "URL_PreTrainedModel_SSD_ResNet152_v1_FPN_640x640_RetinaNet152 =         'http://download.tensorflow.org/models/object_detection/tf2/20200711/ssd_resnet152_v1_fpn_640x640_coco17_tpu-8.tar.gz'\n",
    "URL_PreTrainedModel_SSD_ResNet152_v1_FPN_1024x1024_RetinaNet152 =       'http://download.tensorflow.org/models/object_detection/tf2/20200711/ssd_resnet152_v1_fpn_1024x1024_coco17_tpu-8.tar.gz'\n",
    "URL_PreTrainedModel_Faster_RCNN_ResNet50_V1_640x640 =                   'http://download.tensorflow.org/models/object_detection/tf2/20200711/faster_rcnn_resnet50_v1_640x640_coco17_tpu-8.tar.gz'\n",
    "URL_PreTrainedModel_Faster_RCNN_ResNet50_V1_1024x1024 =                 'http://download.tensorflow.org/models/object_detection/tf2/20200711/faster_rcnn_resnet50_v1_1024x1024_coco17_tpu-8.tar.gz'\n",
    "URL_PreTrainedModel_Faster_RCNN_ResNet50_V1_800x1333 =                  'http://download.tensorflow.org/models/object_detection/tf2/20200711/faster_rcnn_resnet50_v1_800x1333_coco17_gpu-8.tar.gz'\n",
    "URL_PreTrainedModel_Faster_RCNN_ResNet101_V1_640x640 =                  'http://download.tensorflow.org/models/object_detection/tf2/20200711/faster_rcnn_resnet101_v1_640x640_coco17_tpu-8.tar.gz'\n",
    "URL_PreTrainedModel_Faster_RCNN_ResNet101_V1_1024x1024 =                'http://download.tensorflow.org/models/object_detection/tf2/20200711/faster_rcnn_resnet101_v1_1024x1024_coco17_tpu-8.tar.gz'\n",
    "URL_PreTrainedModel_Faster_RCNN_ResNet101_V1_800x1333 =                 'http://download.tensorflow.org/models/object_detection/tf2/20200711/faster_rcnn_resnet101_v1_800x1333_coco17_gpu-8.tar.gz'\n",
    "URL_PreTrainedModel_Faster_RCNN_ResNet152_V1_640x640 =                  'http://download.tensorflow.org/models/object_detection/tf2/20200711/faster_rcnn_resnet152_v1_640x640_coco17_tpu-8.tar.gz'\n",
    "URL_PreTrainedModel_Faster_RCNN_ResNet152_V1_1024x1024 =                'http://download.tensorflow.org/models/object_detection/tf2/20200711/faster_rcnn_resnet152_v1_1024x1024_coco17_tpu-8.tar.gz'\n",
    "URL_PreTrainedModel_Faster_RCNN_ResNet152_V1_800x1333 =                 'http://download.tensorflow.org/models/object_detection/tf2/20200711/faster_rcnn_resnet152_v1_800x1333_coco17_gpu-8.tar.gz'\n",
    "URL_PreTrainedModel_Faster_RCNN_Inception_ResNet_V2_640x640 =           'http://download.tensorflow.org/models/object_detection/tf2/20200711/faster_rcnn_inception_resnet_v2_640x640_coco17_tpu-8.tar.gz'\n",
    "URL_PreTrainedModel_Faster_RCNN_Inception_ResNet_V2_1024x1024 =         'http://download.tensorflow.org/models/object_detection/tf2/20200711/faster_rcnn_inception_resnet_v2_1024x1024_coco17_tpu-8.tar.gz'\n",
    "URL_PreTrainedModel_Mask_RCNN_Inception_ResNet_V2_1024x1024 =           'http://download.tensorflow.org/models/object_detection/tf2/20200711/mask_rcnn_inception_resnet_v2_1024x1024_coco17_gpu-8.tar.gz'\n",
    "URL_PreTrainedModel_ExtremeNet_Deprecated =                             'http://download.tensorflow.org/models/object_detection/tf2/20200711/extremenet.tar.gz'\n",
    "URL_PreTrainedModel_ExtremeNet =                                        'http://download.tensorflow.org/models/object_detection/tf2/20210507/extremenet.tar.gz'"
   ]
  },
  {
   "cell_type": "code",
   "execution_count": 23,
   "metadata": {},
   "outputs": [],
   "source": [
    "Name_PreTrainedModel_CenterNet_HourGlass104_512x512 =                    'centernet_hg104_512x512_coco17_tpu-8'\n",
    "Name_PreTrainedModel_Centernet_HourGlass104_Keypoints_512x512 =          'centernet_hg104_512x512_kpts_coco17_tpu-32'\n",
    "Name_PreTrainedModel_CenterNet_HourGlass104_1024x1024 =                  'centernet_hg104_1024x1024_coco17_tpu-32'\n",
    "Name_PreTrainedModel_CenterNet_HourGlass104_Keypoints_1024x1024 =        'centernet_hg104_1024x1024_kpts_coco17_tpu-32'\n",
    "Name_PreTrainedModel_CenterNet_Resnet50_V1_FPN_512x512 =                 'centernet_resnet50_v1_fpn_512x512_coco17_tpu-8'\n",
    "Name_PreTrainedModel_CenterNet_Resnet50_V1_FPN_Keypoints_512x512 =       'centernet_resnet50_v1_fpn_512x512_kpts_coco17_tpu-8'\n",
    "Name_PreTrainedModel_CenterNet_Resnet101_V1_FPN_512x512 =                'centernet_resnet101_v1_fpn_512x512_coco17_tpu-8'\n",
    "Name_PreTrainedModel_CenterNet_Resnet50_V2_512x512 =                     'centernet_resnet50_v2_512x512_coco17_tpu-8'\n",
    "Name_PreTrainedModel_CenterNet_Resnet50_V2_Keypoints_512x512 =           'centernet_resnet50_v2_512x512_kpts_coco17_tpu-8'\n",
    "Name_PreTrainedModel_CenterNet_MobileNetV2_FPN_512x512 =                 'centernet_mobilenetv2fpn_512x512_coco17_od'\n",
    "Name_PreTrainedModel_CenterNet_MobileNetV2_FPN_Keypoints_512x512 =       'centernet_mobilenetv2fpn_512x512_coco17_kpts'\n",
    "Name_PreTrainedModel_EfficientDet_D0_512x512 =                           'efficientdet_d0_coco17_tpu-32'\n",
    "Name_PreTrainedModel_EfficientDet_D1_640x640 =                           'efficientdet_d1_coco17_tpu-32'\n",
    "Name_PreTrainedModel_EfficientDet_D2_768x768 =                           'efficientdet_d2_coco17_tpu-32'\n",
    "Name_PreTrainedModel_EfficientDet_D3_896x896 =                           'efficientdet_d3_coco17_tpu-32'\n",
    "Name_PreTrainedModel_EfficientDet_D4_1024x1024 =                         'efficientdet_d4_coco17_tpu-32'\n",
    "Name_PreTrainedModel_EfficientDet_D5_1280x1280 =                         'efficientdet_d5_coco17_tpu-32'\n",
    "Name_PreTrainedModel_EfficientDet_D6_1280x1280 =                         'efficientdet_d6_coco17_tpu-32'\n",
    "Name_PreTrainedModel_EfficientDet_D7_1536x1536 =                         'efficientdet_d7_coco17_tpu-32'\n",
    "Name_PreTrainedModel_SSD_MobileNet_v2_320x320 =                          'ssd_mobilenet_v2_320x320_coco17_tpu-8'\n",
    "Name_PreTrainedModel_SSD_MobileNet_v1_FPN_640x640 =                      'ssd_mobilenet_v1_fpn_640x640_coco17_tpu-8'\n",
    "Name_PreTrainedModel_SSD_MobileNet_v2_FPNLite_320x320 =                  'ssd_mobilenet_v2_fpnlite_320x320_coco17_tpu-8'\n",
    "Name_PreTrainedModel_SSD_MobileNet_v2_FPNLite_640x640 =                  'ssd_mobilenet_v2_fpnlite_640x640_coco17_tpu-8'\n",
    "Name_PreTrainedModel_SSD_ResNet50_v1_FPN_640x640_RetinaNet50 =           'ssd_resnet50_v1_fpn_640x640_coco17_tpu-8'\n",
    "Name_PreTrainedModel_SSD_ResNet50_v1_FPN_1024x1024_RetinaNet50 =         'ssd_resnet50_v1_fpn_1024x1024_coco17_tpu-8'\n",
    "Name_PreTrainedModel_SSD_ResNet101_v1_FPN_640x640_RetinaNet101 =         'ssd_resnet101_v1_fpn_640x640_coco17_tpu-8'\n",
    "Name_PreTrainedModel_SSD_ResNet101_v1_FPN_1024x1024_RetinaNet101 =       'ssd_resnet101_v1_fpn_1024x1024_coco17_tpu-8'\n",
    "Name_PreTrainedModel_SSD_ResNet152_v1_FPN_640x640_RetinaNet152 =         'ssd_resnet152_v1_fpn_640x640_coco17_tpu-8'\n",
    "Name_PreTrainedModel_SSD_ResNet152_v1_FPN_1024x1024_RetinaNet152 =       'ssd_resnet152_v1_fpn_1024x1024_coco17_tpu-8'\n",
    "Name_PreTrainedModel_Faster_RCNN_ResNet50_V1_640x640 =                   'faster_rcnn_resnet50_v1_640x640_coco17_tpu-8'\n",
    "Name_PreTrainedModel_Faster_RCNN_ResNet50_V1_1024x1024 =                 'faster_rcnn_resnet50_v1_1024x1024_coco17_tpu-8'\n",
    "Name_PreTrainedModel_Faster_RCNN_ResNet50_V1_800x1333 =                  'faster_rcnn_resnet50_v1_800x1333_coco17_gpu-8'\n",
    "Name_PreTrainedModel_Faster_RCNN_ResNet101_V1_640x640 =                  'faster_rcnn_resnet101_v1_640x640_coco17_tpu-8'\n",
    "Name_PreTrainedModel_Faster_RCNN_ResNet101_V1_1024x1024 =                'faster_rcnn_resnet101_v1_1024x1024_coco17_tpu-8'\n",
    "Name_PreTrainedModel_Faster_RCNN_ResNet101_V1_800x1333 =                 'faster_rcnn_resnet101_v1_800x1333_coco17_gpu-8'\n",
    "Name_PreTrainedModel_Faster_RCNN_ResNet152_V1_640x640 =                  'faster_rcnn_resnet152_v1_640x640_coco17_tpu-8'\n",
    "Name_PreTrainedModel_Faster_RCNN_ResNet152_V1_1024x1024 =                'faster_rcnn_resnet152_v1_1024x1024_coco17_tpu-8'\n",
    "Name_PreTrainedModel_Faster_RCNN_ResNet152_V1_800x1333 =                 'faster_rcnn_resnet152_v1_800x1333_coco17_gpu-8'\n",
    "Name_PreTrainedModel_Faster_RCNN_Inception_ResNet_V2_640x640 =           'faster_rcnn_inception_resnet_v2_640x640_coco17_tpu-8'\n",
    "Name_PreTrainedModel_Faster_RCNN_Inception_ResNet_V2_1024x1024 =         'faster_rcnn_inception_resnet_v2_1024x1024_coco17_tpu-8'\n",
    "Name_PreTrainedModel_Mask_RCNN_Inception_ResNet_V2_1024x1024 =           'mask_rcnn_inception_resnet_v2_1024x1024_coco17_gpu-8'\n",
    "Name_PreTrainedModel_ExtremeNet_Deprecated =                             'extremenet_deprecated'\n",
    "Name_PreTrainedModel_ExtremeNet =                                        'extremenet'"
   ]
  },
  {
   "cell_type": "code",
   "execution_count": 24,
   "metadata": {},
   "outputs": [],
   "source": [
    "PRETRAINED_MODEL_NAME = Name_PreTrainedModel_SSD_MobileNet_v1_FPN_640x640\n",
    "PRETRAINED_MODEL_URL = URL_PreTrainedModel_SSD_MobileNet_v1_FPN_640x640\n",
    "CUSTOM_MODEL_NAME = 'my_tfcod_model' \n",
    "TF_RECORD_SCRIPT_NAME = 'generate_tfrecord.py'\n",
    "LABEL_MAP_NAME = 'label_map.pbtxt'"
   ]
  },
  {
   "cell_type": "code",
   "execution_count": 25,
   "metadata": {},
   "outputs": [],
   "source": [
    "paths = {\n",
    "    'WORKSPACE_PATH': os.path.join('Tensorflow', 'workspace'),\n",
    "    'SCRIPTS_PATH': os.path.join('Tensorflow','scripts'),\n",
    "    'APIMODEL_PATH': os.path.join('Tensorflow','models'),\n",
    "    'ANNOTATION_PATH': os.path.join('Tensorflow', 'workspace','annotations'),\n",
    "    'IMAGE_PATH': os.path.join('Tensorflow', 'workspace','images'),\n",
    "    'MODEL_PATH': os.path.join('Tensorflow', 'workspace','models'),\n",
    "    'PRETRAINED_MODEL_PATH': os.path.join('Tensorflow', 'workspace','pre-trained-models'),\n",
    "    'CHECKPOINT_PATH': os.path.join('Tensorflow', 'workspace','models',CUSTOM_MODEL_NAME), \n",
    "    'OUTPUT_PATH': os.path.join('Tensorflow', 'workspace','models',CUSTOM_MODEL_NAME, 'export'), \n",
    "    'TFJS_PATH':os.path.join('Tensorflow', 'workspace','models',CUSTOM_MODEL_NAME, 'tfjsexport'), \n",
    "    'TFLITE_PATH':os.path.join('Tensorflow', 'workspace','models',CUSTOM_MODEL_NAME, 'tfliteexport'), \n",
    "    'PROTOC_PATH':os.path.join('Tensorflow','protoc')\n",
    " }"
   ]
  },
  {
   "cell_type": "code",
   "execution_count": 26,
   "metadata": {},
   "outputs": [],
   "source": [
    "files = {\n",
    "    'PIPELINE_CONFIG':os.path.join('Tensorflow', 'workspace','models', CUSTOM_MODEL_NAME, 'pipeline.config'),\n",
    "    'TF_RECORD_SCRIPT': os.path.join(paths['SCRIPTS_PATH'], TF_RECORD_SCRIPT_NAME), \n",
    "    'LABELMAP': os.path.join(paths['ANNOTATION_PATH'], LABEL_MAP_NAME)\n",
    "}"
   ]
  },
  {
   "cell_type": "code",
   "execution_count": 27,
   "metadata": {},
   "outputs": [],
   "source": [
    "for path in paths.values():\n",
    "    if not os.path.exists(path):\n",
    "        if os.name == 'posix':\n",
    "            !mkdir -p {path}\n",
    "        if os.name == 'nt':\n",
    "            !mkdir {path}"
   ]
  },
  {
   "cell_type": "code",
   "execution_count": 28,
   "metadata": {},
   "outputs": [],
   "source": [
    "# This array is used to create the folder structure where the objects to be predicted will be stored.\n",
    "# e.g.  labels = ['thumbsup', 'thumbsdown', 'thankyou', 'livelong']\n",
    "labels = ['thumbsup', 'thumbsdown', 'thankyou', 'livelong']"
   ]
  },
  {
   "cell_type": "code",
   "execution_count": 29,
   "metadata": {},
   "outputs": [],
   "source": [
    "ORIGINAL_IMAGES_PATH = os.path.join('Tensorflow', 'workspace', 'images', 'Original_Images')"
   ]
  },
  {
   "cell_type": "code",
   "execution_count": 30,
   "metadata": {},
   "outputs": [],
   "source": [
    "if not os.path.exists(ORIGINAL_IMAGES_PATH):\n",
    "    if os.name == 'posix':\n",
    "        !mkdir -p {ORIGINAL_IMAGES_PATH}\n",
    "    if os.name == 'nt':\n",
    "         !mkdir {ORIGINAL_IMAGES_PATH}\n",
    "for label in labels:\n",
    "    path = os.path.join(ORIGINAL_IMAGES_PATH, label)\n",
    "    if not os.path.exists(path):\n",
    "        !mkdir {path}"
   ]
  },
  {
   "cell_type": "markdown",
   "metadata": {},
   "source": [
    "# Download Tensorflow files and scripts"
   ]
  },
  {
   "cell_type": "code",
   "execution_count": 33,
   "metadata": {},
   "outputs": [],
   "source": [
    "# if not os.path.exists(os.path.join(paths['APIMODEL_PATH'], 'research', 'object_detection')):\n",
    "#     !git clone https://github.com/tensorflow/models {paths['APIMODEL_PATH']}"
   ]
  },
  {
   "cell_type": "code",
   "execution_count": 34,
   "metadata": {},
   "outputs": [],
   "source": [
    "# # Install Tensorflow Object Detection \n",
    "# if os.name=='posix':  \n",
    "#     !apt-get install protobuf-compiler\n",
    "#     !cd Tensorflow/models/research && protoc object_detection/protos/*.proto --python_out=. && cp object_detection/packages/tf2/setup.py . && python -m pip install . \n",
    "    \n",
    "# if os.name=='nt':\n",
    "#     url=\"https://github.com/protocolbuffers/protobuf/releases/download/v3.15.6/protoc-3.15.6-win64.zip\"\n",
    "#     wget.download(url)\n",
    "#     !move protoc-3.15.6-win64.zip {paths['PROTOC_PATH']}\n",
    "#     !cd {paths['PROTOC_PATH']} && tar -xf protoc-3.15.6-win64.zip\n",
    "#     os.environ['PATH'] += os.pathsep + os.path.abspath(os.path.join(paths['PROTOC_PATH'], 'bin'))   \n",
    "#     !cd Tensorflow/models/research && protoc object_detection/protos/*.proto --python_out=. && copy object_detection\\\\packages\\\\tf2\\\\setup.py setup.py && python setup.py build && python setup.py install\n",
    "#     !cd Tensorflow/models/research/slim && pip install -e . "
   ]
  },
  {
   "cell_type": "markdown",
   "metadata": {},
   "source": [
    "# Run Verification Script to Check Installation"
   ]
  },
  {
   "cell_type": "code",
   "execution_count": null,
   "metadata": {},
   "outputs": [],
   "source": [
    "VERIFICATION_SCRIPT = os.path.join(paths['APIMODEL_PATH'], 'research', 'object_detection', 'builders', 'model_builder_tf2_test.py')\n",
    "# Verify Installation\n",
    "!python {VERIFICATION_SCRIPT}"
   ]
  },
  {
   "attachments": {},
   "cell_type": "markdown",
   "metadata": {},
   "source": [
    "# Create Label Map"
   ]
  },
  {
   "cell_type": "code",
   "execution_count": null,
   "metadata": {},
   "outputs": [],
   "source": [
    "# e.g.  labels = [{'name':'thumbsup', 'id':1}, {'name':'thumbsdown', 'id':2}, {'name':'thankyou', 'id':3}, {'name':'livelong', 'id':4}]\n",
    "labels = [{'name':'thumbsup', 'id':1}, {'name':'thumbsdown', 'id':2}, {'name':'thankyou', 'id':3}, {'name':'livelong', 'id':4}]\n",
    "\n",
    "with open(files['LABELMAP'], 'w') as f:\n",
    "    for label in labels:\n",
    "        f.write('item { \\n')\n",
    "        f.write('\\tname:\\'{}\\'\\n'.format(label['name']))\n",
    "        f.write('\\tid:{}\\n'.format(label['id']))\n",
    "        f.write('}\\n')"
   ]
  },
  {
   "cell_type": "markdown",
   "metadata": {},
   "source": [
    "# Create TF records"
   ]
  },
  {
   "cell_type": "code",
   "execution_count": null,
   "metadata": {},
   "outputs": [],
   "source": [
    "if not os.path.exists(files['TF_RECORD_SCRIPT']):\n",
    "    !git clone https://github.com/nicknochnack/GenerateTFRecord {paths['SCRIPTS_PATH']}"
   ]
  },
  {
   "cell_type": "code",
   "execution_count": null,
   "metadata": {},
   "outputs": [],
   "source": [
    "!python {files['TF_RECORD_SCRIPT']} -x {os.path.join(paths['IMAGE_PATH'], 'train')} -l {files['LABELMAP']} -o {os.path.join(paths['ANNOTATION_PATH'], 'train.record')} \n",
    "!python {files['TF_RECORD_SCRIPT']} -x {os.path.join(paths['IMAGE_PATH'], 'test')} -l {files['LABELMAP']} -o {os.path.join(paths['ANNOTATION_PATH'], 'test.record')} "
   ]
  },
  {
   "cell_type": "markdown",
   "metadata": {},
   "source": [
    "# Download Pre-Trained Model"
   ]
  },
  {
   "cell_type": "code",
   "execution_count": null,
   "metadata": {},
   "outputs": [],
   "source": [
    "if os.name =='posix':\n",
    "    !wget {PRETRAINED_MODEL_URL}\n",
    "    !mv {PRETRAINED_MODEL_NAME+'.tar.gz'} {paths['PRETRAINED_MODEL_PATH']}\n",
    "    !cd {paths['PRETRAINED_MODEL_PATH']} && tar -zxvf {PRETRAINED_MODEL_NAME+'.tar.gz'}\n",
    "if os.name == 'nt':\n",
    "    wget.download(PRETRAINED_MODEL_URL)\n",
    "    !move {PRETRAINED_MODEL_NAME+'.tar.gz'} {paths['PRETRAINED_MODEL_PATH']}\n",
    "    !cd {paths['PRETRAINED_MODEL_PATH']} && tar -zxvf {PRETRAINED_MODEL_NAME+'.tar.gz'}"
   ]
  },
  {
   "attachments": {},
   "cell_type": "markdown",
   "metadata": {},
   "source": [
    "# Copy Model Config to Training Folder"
   ]
  },
  {
   "cell_type": "code",
   "execution_count": null,
   "metadata": {},
   "outputs": [],
   "source": [
    "if os.name =='posix':\n",
    "    !cp {os.path.join(paths['PRETRAINED_MODEL_PATH'], PRETRAINED_MODEL_NAME, 'pipeline.config')} {os.path.join(paths['CHECKPOINT_PATH'])}\n",
    "if os.name == 'nt':\n",
    "    !copy {os.path.join(paths['PRETRAINED_MODEL_PATH'], PRETRAINED_MODEL_NAME, 'pipeline.config')} {os.path.join(paths['CHECKPOINT_PATH'])}"
   ]
  },
  {
   "cell_type": "markdown",
   "metadata": {},
   "source": [
    "# Update Config File"
   ]
  },
  {
   "cell_type": "code",
   "execution_count": null,
   "metadata": {},
   "outputs": [],
   "source": [
    "config = config_util.get_configs_from_pipeline_file(files['PIPELINE_CONFIG'])"
   ]
  },
  {
   "cell_type": "code",
   "execution_count": null,
   "metadata": {},
   "outputs": [],
   "source": [
    "config"
   ]
  },
  {
   "cell_type": "code",
   "execution_count": null,
   "metadata": {},
   "outputs": [],
   "source": [
    "pipeline_config = pipeline_pb2.TrainEvalPipelineConfig()\n",
    "with tf.io.gfile.GFile(files['PIPELINE_CONFIG'], \"r\") as f:                                                                                                                                                                                                                     \n",
    "    proto_str = f.read()                                                                                                                                                                                                                                          \n",
    "    text_format.Merge(proto_str, pipeline_config)"
   ]
  },
  {
   "cell_type": "code",
   "execution_count": null,
   "metadata": {},
   "outputs": [],
   "source": [
    "pipeline_config.model.ssd.num_classes = len(labels)\n",
    "pipeline_config.train_config.batch_size = 4\n",
    "pipeline_config.train_config.fine_tune_checkpoint = os.path.join(paths['PRETRAINED_MODEL_PATH'], PRETRAINED_MODEL_NAME, 'checkpoint', 'ckpt-0')\n",
    "pipeline_config.train_config.fine_tune_checkpoint_type = \"detection\"\n",
    "pipeline_config.train_input_reader.label_map_path= files['LABELMAP']\n",
    "pipeline_config.train_input_reader.tf_record_input_reader.input_path[:] = [os.path.join(paths['ANNOTATION_PATH'], 'train.record')]\n",
    "pipeline_config.eval_input_reader[0].label_map_path = files['LABELMAP']\n",
    "pipeline_config.eval_input_reader[0].tf_record_input_reader.input_path[:] = [os.path.join(paths['ANNOTATION_PATH'], 'test.record')]"
   ]
  },
  {
   "cell_type": "code",
   "execution_count": null,
   "metadata": {},
   "outputs": [],
   "source": [
    "config_text = text_format.MessageToString(pipeline_config)                                                                                                                                                                                                        \n",
    "with tf.io.gfile.GFile(files['PIPELINE_CONFIG'], \"wb\") as f:                                                                                                                                                                                                                     \n",
    "    f.write(config_text)   "
   ]
  },
  {
   "cell_type": "markdown",
   "metadata": {},
   "source": [
    "# Train the Model"
   ]
  },
  {
   "cell_type": "code",
   "execution_count": null,
   "metadata": {},
   "outputs": [],
   "source": [
    "TRAINING_SCRIPT = os.path.join(paths['APIMODEL_PATH'], 'research', 'object_detection', 'model_main_tf2.py')"
   ]
  },
  {
   "cell_type": "code",
   "execution_count": null,
   "metadata": {},
   "outputs": [],
   "source": [
    "command = \"python {} --model_dir={} --pipeline_config_path={} --num_train_steps=2000\".format(TRAINING_SCRIPT, paths['CHECKPOINT_PATH'],files['PIPELINE_CONFIG'])"
   ]
  },
  {
   "cell_type": "code",
   "execution_count": null,
   "metadata": {},
   "outputs": [],
   "source": [
    "print(command)"
   ]
  },
  {
   "cell_type": "markdown",
   "metadata": {},
   "source": [
    "# Evaluate the Model"
   ]
  },
  {
   "cell_type": "code",
   "execution_count": null,
   "metadata": {},
   "outputs": [],
   "source": [
    "command = \"python {} --model_dir={} --pipeline_config_path={} --checkpoint_dir={}\".format(TRAINING_SCRIPT, paths['CHECKPOINT_PATH'],files['PIPELINE_CONFIG'], paths['CHECKPOINT_PATH'])"
   ]
  },
  {
   "cell_type": "code",
   "execution_count": null,
   "metadata": {},
   "outputs": [],
   "source": [
    "print(command)"
   ]
  },
  {
   "cell_type": "markdown",
   "metadata": {},
   "source": [
    "# Load Train Model From Checkpoint"
   ]
  },
  {
   "cell_type": "code",
   "execution_count": null,
   "metadata": {},
   "outputs": [],
   "source": [
    "# Load pipeline config and build a detection model\n",
    "configs = config_util.get_configs_from_pipeline_file(files['PIPELINE_CONFIG'])\n",
    "detection_model = model_builder.build(model_config=configs['model'], is_training=False)\n",
    "\n",
    "# Restore checkpoint\n",
    "ckpt = tf.compat.v2.train.Checkpoint(model=detection_model)\n",
    "ckpt.restore(os.path.join(paths['CHECKPOINT_PATH'], 'ckpt-11')).expect_partial()\n",
    "\n",
    "@tf.function\n",
    "def detect_fn(image):\n",
    "    image, shapes = detection_model.preprocess(image)\n",
    "    prediction_dict = detection_model.predict(image, shapes)\n",
    "    detections = detection_model.postprocess(prediction_dict, shapes)\n",
    "    return detections"
   ]
  },
  {
   "attachments": {},
   "cell_type": "markdown",
   "metadata": {},
   "source": [
    "# Detect from an Image"
   ]
  },
  {
   "cell_type": "code",
   "execution_count": null,
   "metadata": {},
   "outputs": [],
   "source": [
    "category_index = label_map_util.create_category_index_from_labelmap(files['LABELMAP'])"
   ]
  },
  {
   "cell_type": "code",
   "execution_count": null,
   "metadata": {},
   "outputs": [],
   "source": [
    "IMAGE_PATH = os.path.join(paths['IMAGE_PATH'], 'train', '{input_filename}')\n",
    "savecv = \"{output_filename}\""
   ]
  },
  {
   "cell_type": "code",
   "execution_count": null,
   "metadata": {},
   "outputs": [],
   "source": [
    "img = cv2.imread(IMAGE_PATH)\n",
    "image_np = np.array(img)\n",
    "\n",
    "input_tensor = tf.convert_to_tensor(np.expand_dims(image_np, 0), dtype=tf.float32)\n",
    "detections = detect_fn(input_tensor)\n",
    "\n",
    "num_detections = int(detections.pop('num_detections'))\n",
    "detections = {key: value[0, :num_detections].numpy()\n",
    "              for key, value in detections.items()}\n",
    "detections['num_detections'] = num_detections\n",
    "\n",
    "# detection_classes should be ints.\n",
    "detections['detection_classes'] = detections['detection_classes'].astype(np.int64)\n",
    "\n",
    "label_id_offset = 1\n",
    "image_np_with_detections = image_np.copy()\n",
    "\n",
    "viz_utils.visualize_boxes_and_labels_on_image_array(\n",
    "            image_np_with_detections,\n",
    "            detections['detection_boxes'],\n",
    "            detections['detection_classes']+label_id_offset,\n",
    "            detections['detection_scores'],\n",
    "            category_index,\n",
    "            use_normalized_coordinates=True,\n",
    "            max_boxes_to_draw=5,\n",
    "            min_score_thresh=.8,\n",
    "            agnostic_mode=False)\n",
    "\n",
    "plt.imshow(cv2.cvtColor(image_np_with_detections, cv2.COLOR_BGR2RGB))\n",
    "cv2.imwrite(savecv, image_np_with_detections)\n",
    "plt.show()"
   ]
  },
  {
   "cell_type": "code",
   "execution_count": null,
   "metadata": {},
   "outputs": [],
   "source": []
  }
 ],
 "metadata": {
  "kernelspec": {
   "display_name": "base",
   "language": "python",
   "name": "python3"
  },
  "language_info": {
   "codemirror_mode": {
    "name": "ipython",
    "version": 3
   },
   "file_extension": ".py",
   "mimetype": "text/x-python",
   "name": "python",
   "nbconvert_exporter": "python",
   "pygments_lexer": "ipython3",
   "version": "3.9.13"
  },
  "orig_nbformat": 4
 },
 "nbformat": 4,
 "nbformat_minor": 2
}
